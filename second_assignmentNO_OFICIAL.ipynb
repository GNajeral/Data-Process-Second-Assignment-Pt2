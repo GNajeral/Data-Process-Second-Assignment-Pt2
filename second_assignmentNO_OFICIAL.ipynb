{
  "cells": [
    {
      "cell_type": "code",
      "execution_count": null,
      "metadata": {
        "id": "j-QQMqmyFani"
      },
      "outputs": [],
      "source": [
        "import tensorflow as tf\n",
        "import pandas as pd\n",
        "import numpy as np\n",
        "import matplotlib.pyplot as plt\n",
        "import seaborn as sns\n",
        "from sklearn.tree import DecisionTreeClassifier, plot_tree\n",
        "from sklearn.model_selection import train_test_split, KFold\n",
        "from sklearn.metrics import accuracy_score, f1_score, confusion_matrix, classification_report\n",
        "from sklearn.ensemble import RandomForestClassifier\n",
        "from imblearn.over_sampling import SMOTE\n"
      ]
    },
    {
      "cell_type": "markdown",
      "metadata": {
        "id": "XF-910uaFanm"
      },
      "source": [
        "Open Dataset in Pandas Dataframe"
      ]
    },
    {
      "cell_type": "code",
      "execution_count": null,
      "metadata": {
        "id": "hLukqxudFanq"
      },
      "outputs": [],
      "source": [
        "df = pd.read_csv(\"heart_disease.csv\")\n",
        "target = df.pop('HeartDiseaseorAttack')"
      ]
    },
    {
      "cell_type": "code",
      "execution_count": null,
      "metadata": {
        "id": "HiAJDQp6Fans"
      },
      "outputs": [],
      "source": [
        "# Split the data into training and test sets\n",
        "X_train, X_test, y_train, y_test = train_test_split(df, target, test_size=0.2)"
      ]
    },
    {
      "cell_type": "code",
      "execution_count": null,
      "metadata": {
        "id": "kWEyPhn-Fant"
      },
      "outputs": [],
      "source": [
        "# Convert the data into a format that can be used by TensorFlow\n",
        "X_train = tf.convert_to_tensor(X_train.values, dtype=tf.float32)\n",
        "y_train = tf.convert_to_tensor(y_train.values, dtype=tf.float32)\n",
        "X_test = tf.convert_to_tensor(X_test.values, dtype=tf.float32)\n",
        "y_test = tf.convert_to_tensor(y_test.values, dtype=tf.float32)"
      ]
    },
    {
      "cell_type": "code",
      "execution_count": null,
      "metadata": {
        "id": "BsJBLJIbFanu"
      },
      "outputs": [],
      "source": [
        "# Define the model\n",
        "model = tf.keras.Sequential([\n",
        "    tf.keras.layers.Dense(64, activation='relu', input_shape=(X_train.shape[1],)),\n",
        "    tf.keras.layers.Dense(64, activation='relu'),\n",
        "    tf.keras.layers.Dense(1, activation='sigmoid')\n",
        "])"
      ]
    },
    {
      "cell_type": "code",
      "execution_count": null,
      "metadata": {
        "id": "gBZyy0H4Fanv"
      },
      "outputs": [],
      "source": [
        "# Compile the model\n",
        "model.compile(optimizer='adam', loss='binary_crossentropy', metrics=['accuracy'])"
      ]
    },
    {
      "cell_type": "code",
      "execution_count": null,
      "metadata": {
        "id": "0vDKjVI2Fanw"
      },
      "outputs": [],
      "source": [
        "# Train the model\n",
        "model.fit(X_train, y_train, epochs=10, batch_size=32)"
      ]
    },
    {
      "cell_type": "code",
      "execution_count": null,
      "metadata": {
        "id": "wjrzXot4Fan0"
      },
      "outputs": [],
      "source": [
        "# Evaluate the model\n",
        "loss, accuracy = model.evaluate(X_test, y_test)"
      ]
    },
    {
      "cell_type": "code",
      "execution_count": null,
      "metadata": {
        "id": "UN9apznGFan1"
      },
      "outputs": [],
      "source": [
        "predictions = model.predict(X_test)\n",
        "\n",
        "# Convert the predictions to a binary class\n",
        "predictions = (predictions > 0.5).astype(int)\n",
        "predictions = [pred[0] for pred in predictions]\n",
        "predictions = np.array(predictions)"
      ]
    },
    {
      "cell_type": "code",
      "execution_count": null,
      "metadata": {
        "id": "HagTGxv0Fan3"
      },
      "outputs": [],
      "source": [
        "# Showing relevant information about the Neural Networks model\n",
        "y_true = y_test.numpy().astype(int)\n",
        "test_acc = sum(predictions == y_true) / len(y_true)\n",
        "Hc = sum(y_true == 0)\n",
        "Sick = sum(y_true == 1)\n",
        "PredHc = sum(predictions == 0)\n",
        "PredSick = sum(predictions == 1)\n",
        "print(\"Subjects:\", len(y_true))\n",
        "print(\"Actual Healthy Subjects:\", Hc)\n",
        "print(\"Actual Sick Subjects:\", Sick)\n",
        "print(\"Predicted Healthy Subjects:\", Hc)\n",
        "print(\"Predicted Sick Subjects:\", Sick)\n",
        "print(\"Test Set Accuracy:\", test_acc)"
      ]
    },
    {
      "cell_type": "code",
      "execution_count": null,
      "metadata": {
        "id": "hf8jdTWiFan5"
      },
      "outputs": [],
      "source": [
        "# Showing the results of the Neural Networks model through a confusion matrix\n",
        "confusion_mtx = tf.math.confusion_matrix(y_test, predictions)\n",
        "matriz = confusion_mtx.numpy()\n",
        "plt.figure(figsize=(10,8))\n",
        "sns.heatmap(confusion_mtx,\n",
        "xticklabels=['Healthy', 'Sick'],\n",
        "yticklabels=['Healthy', 'Sick'],\n",
        "annot=True, fmt='g')\n",
        "plt.xlabel('Prediction')\n",
        "plt.ylabel('Label')\n",
        "plt.show()\n",
        "print(classification_report(y_test, predictions))"
      ]
    },
    {
      "cell_type": "markdown",
      "metadata": {
        "id": "ZUzY89osFan7"
      },
      "source": [
        "Result: High Accuracy, High Bias"
      ]
    },
    {
      "cell_type": "markdown",
      "metadata": {
        "id": "EnsOf18iFan8"
      },
      "source": [
        "Decision Tree Classifier, with and without K-Folds doubling the weight for Sick label"
      ]
    },
    {
      "cell_type": "code",
      "execution_count": null,
      "metadata": {
        "id": "5BoJpkiXFan8"
      },
      "outputs": [],
      "source": [
        "# Create the model\n",
        "model = DecisionTreeClassifier()\n",
        "\n",
        "# Create the KFold object with 5 folds\n",
        "kfold = KFold(n_splits=5, shuffle=True)\n",
        "\n",
        "# Initialize a list to store the evaluation metrics for each fold\n",
        "eval_metrics = []"
      ]
    },
    {
      "cell_type": "code",
      "execution_count": null,
      "metadata": {
        "id": "yxKBsdfXFan9"
      },
      "outputs": [],
      "source": [
        "X = df.values\n",
        "y = target.values\n",
        "sample_weight = tf.where(y_train == 1, 2, 1)\n",
        "\n",
        "# Iterate over the folds\n",
        "for train_index, test_index in kfold.split(X):\n",
        "    # Split the data into train and test sets for the current fold\n",
        "    X_train, X_test = X[train_index], X[test_index]\n",
        "    y_train, y_test = y[train_index], y[test_index]\n",
        "\n",
        "    # Train the model on the train set\n",
        "    model.fit(X_train, y_train, sample_weight=sample_weight)\n",
        "\n",
        "     # Evaluate the model on the test set\n",
        "    score = model.score(X_test, y_test)\n",
        "    print(f'Test score: {score:.2f}')\n",
        "\n",
        "# Calculate the mean and standard deviation of the evaluation metrics\n",
        "mean_accuracy = np.mean([x[0] for x in eval_metrics])\n",
        "std_accuracy = np.std([x[0] for x in eval_metrics])\n",
        "mean_f1_score = np.mean([x[1] for x in eval_metrics])\n",
        "std_f1_score = np.std([x[1] for x in eval_metrics])\n",
        "\n",
        "print(f'Mean accuracy: {mean_accuracy:.3f} (+/- {std_accuracy:.3f})')\n",
        "print(f'Mean F1 score: {mean_f1_score:.3f} (+/- {std_f1_score:.3f})')"
      ]
    },
    {
      "cell_type": "code",
      "execution_count": null,
      "metadata": {
        "id": "O1Q7OMy2Fan_"
      },
      "outputs": [],
      "source": [
        "# Fit the model to the training data\n",
        "model.fit(X_train, y_train, sample_weight=sample_weight)"
      ]
    },
    {
      "cell_type": "code",
      "execution_count": null,
      "metadata": {
        "id": "I5aTzdJkFaoA"
      },
      "outputs": [],
      "source": [
        "# Evaluate the model on the test set\n",
        "y_pred = model.predict(X_test)\n",
        "accuracy = accuracy_score(y_test, y_pred)\n",
        "f1 = f1_score(y_test, y_pred)\n",
        "print(f\"Accuracy: {accuracy:.2f}\")\n",
        "print(f\"F1 score: {f1:.2f}\")"
      ]
    },
    {
      "cell_type": "code",
      "execution_count": null,
      "metadata": {
        "id": "SW4OjQ4rFaoB"
      },
      "outputs": [],
      "source": [
        "# Showing the results through a confusion matrix of the Decision Tree Classifier model without K-folds and doubling the weight\n",
        "confusion_mtx = tf.math.confusion_matrix(y_test, y_pred)\n",
        "matriz = confusion_mtx.numpy()\n",
        "plt.figure(figsize=(10,8))\n",
        "sns.heatmap(confusion_mtx,\n",
        "xticklabels=['Healthy', 'Sick'],\n",
        "yticklabels=['Healthy', 'Sick'],\n",
        "annot=True, fmt='g')\n",
        "plt.xlabel('Prediction')\n",
        "plt.ylabel('Label')\n",
        "plt.show()\n",
        "print(classification_report(y_test, y_pred))"
      ]
    },
    {
      "cell_type": "markdown",
      "metadata": {
        "id": "18eqhfNVFaoD"
      },
      "source": [
        "Result: Lower accuracy and Lower Bias"
      ]
    },
    {
      "cell_type": "markdown",
      "metadata": {
        "id": "qLIRthUqFaoE"
      },
      "source": [
        "Random Forest Classifier"
      ]
    },
    {
      "cell_type": "code",
      "execution_count": null,
      "metadata": {
        "id": "Zo8IApydFaoE"
      },
      "outputs": [],
      "source": [
        "# Train the model\n",
        "model = RandomForestClassifier(n_estimators=100, max_depth=10)"
      ]
    },
    {
      "cell_type": "code",
      "execution_count": null,
      "metadata": {
        "id": "2_qi_-RcFaoF"
      },
      "outputs": [],
      "source": [
        "model.fit(X_train, y_train)"
      ]
    },
    {
      "cell_type": "code",
      "execution_count": null,
      "metadata": {
        "id": "RfaQVdIUFaoG"
      },
      "outputs": [],
      "source": [
        "# Evaluate the model on the test set\n",
        "y_pred = model.predict(X_test)\n",
        "accuracy = accuracy_score(y_test, y_pred)\n",
        "f1 = f1_score(y_test, y_pred)\n",
        "print(f\"Accuracy: {accuracy:.2f}\")\n",
        "print(f\"F1 score: {f1:.2f}\")"
      ]
    },
    {
      "cell_type": "code",
      "execution_count": null,
      "metadata": {
        "id": "mrd8HvcYFaoG"
      },
      "outputs": [],
      "source": [
        "# Showing the results of the Random Forest Classifier through a confusion matrix\n",
        "confusion_mtx = tf.math.confusion_matrix(y_test, y_pred)\n",
        "matriz = confusion_mtx.numpy()\n",
        "plt.figure(figsize=(10,8))\n",
        "sns.heatmap(confusion_mtx,\n",
        "xticklabels=['Healthy', 'Sick'],\n",
        "yticklabels=['Healthy', 'Sick'],\n",
        "annot=True, fmt='g')\n",
        "plt.xlabel('Prediction')\n",
        "plt.ylabel('Label')\n",
        "plt.show()\n",
        "print(classification_report(y_test, y_pred))"
      ]
    },
    {
      "cell_type": "markdown",
      "metadata": {
        "id": "AHDQJrSmFaoH"
      },
      "source": [
        "Result: High Accuracy, High Bias"
      ]
    },
    {
      "cell_type": "markdown",
      "metadata": {
        "id": "QLdIiNq7FaoI"
      },
      "source": [
        "Neural Networks using SMOTE"
      ]
    },
    {
      "cell_type": "code",
      "execution_count": null,
      "metadata": {
        "id": "pF6S64d1FaoI"
      },
      "outputs": [],
      "source": [
        "X = df.values\n",
        "y = target.values\n",
        "\n",
        "# Create a SMOTE object\n",
        "smote = SMOTE()\n",
        "\n",
        "# Use the SMOTE object to generate synthetic samples\n",
        "X_resampled, y_resampled = smote.fit_resample(X, y)\n",
        "\n",
        "# Split the resampled dataset into a training set and a test set\n",
        "X_train, X_test, y_train, y_test = train_test_split(X_resampled, y_resampled, test_size=0.2)\n",
        "\n",
        "# Convert the data into a format that can be used by TensorFlow\n",
        "X_train = tf.convert_to_tensor(X_train, dtype=tf.float32)\n",
        "y_train = tf.convert_to_tensor(y_train, dtype=tf.float32)\n",
        "X_test = tf.convert_to_tensor(X_test, dtype=tf.float32)\n",
        "y_test = tf.convert_to_tensor(y_test, dtype=tf.float32)"
      ]
    },
    {
      "cell_type": "code",
      "execution_count": null,
      "metadata": {
        "id": "6I-OjhYjFaoJ"
      },
      "outputs": [],
      "source": [
        "# Define the model\n",
        "model = tf.keras.Sequential([\n",
        "    tf.keras.layers.Dense(64, activation='relu', input_shape=(X_train.shape[1],)),\n",
        "    tf.keras.layers.Dense(64, activation='relu'),\n",
        "    tf.keras.layers.Dense(1, activation='sigmoid')\n",
        "])"
      ]
    },
    {
      "cell_type": "code",
      "execution_count": null,
      "metadata": {
        "id": "azxXmhJhFaoK"
      },
      "outputs": [],
      "source": [
        "# Compile the model\n",
        "model.compile(optimizer='adam', loss='binary_crossentropy', metrics=['accuracy'])"
      ]
    },
    {
      "cell_type": "code",
      "execution_count": null,
      "metadata": {
        "colab": {
          "background_save": true,
          "base_uri": "https://localhost:8080/"
        },
        "id": "IQkuRiLYFaoK",
        "outputId": "6410cb4a-067f-444c-9f59-9ea218870916"
      },
      "outputs": [
        {
          "name": "stdout",
          "output_type": "stream",
          "text": [
            "Epoch 1/10\n",
            "11490/11490 [==============================] - 32s 3ms/step - loss: 0.4713 - accuracy: 0.7783\n",
            "Epoch 2/10\n",
            "11490/11490 [==============================] - 32s 3ms/step - loss: 0.4047 - accuracy: 0.8152\n",
            "Epoch 3/10\n",
            "11490/11490 [==============================] - 44s 4ms/step - loss: 0.3634 - accuracy: 0.8322\n",
            "Epoch 4/10\n",
            "11490/11490 [==============================] - 31s 3ms/step - loss: 0.3363 - accuracy: 0.8445\n",
            "Epoch 5/10\n",
            "11490/11490 [==============================] - 32s 3ms/step - loss: 0.3100 - accuracy: 0.8579\n",
            "Epoch 6/10\n",
            "11490/11490 [==============================] - 32s 3ms/step - loss: 0.2849 - accuracy: 0.8705\n",
            "Epoch 7/10\n",
            "11490/11490 [==============================] - 31s 3ms/step - loss: 0.2694 - accuracy: 0.8773\n",
            "Epoch 8/10\n",
            "11490/11490 [==============================] - 31s 3ms/step - loss: 0.2614 - accuracy: 0.8805\n",
            "Epoch 9/10\n",
            "11490/11490 [==============================] - 33s 3ms/step - loss: 0.2584 - accuracy: 0.8817\n",
            "Epoch 10/10\n",
            "11490/11490 [==============================] - 31s 3ms/step - loss: 0.2536 - accuracy: 0.8842\n"
          ]
        },
        {
          "data": {
            "text/plain": [
              "<keras.callbacks.History at 0x7ff0065670d0>"
            ]
          },
          "execution_count": 24,
          "metadata": {},
          "output_type": "execute_result"
        }
      ],
      "source": [
        "# Train the model\n",
        "model.fit(X_train, y_train, epochs=10, batch_size=32)"
      ]
    },
    {
      "cell_type": "code",
      "execution_count": null,
      "metadata": {
        "colab": {
          "background_save": true,
          "base_uri": "https://localhost:8080/"
        },
        "id": "WSHU_MNSFaoL",
        "outputId": "ff5bfc94-eba0-46df-e647-dcd96f67b3b6"
      },
      "outputs": [
        {
          "name": "stdout",
          "output_type": "stream",
          "text": [
            "2873/2873 [==============================] - 6s 2ms/step - loss: 0.2584 - accuracy: 0.8829\n"
          ]
        }
      ],
      "source": [
        "# Evaluate the model\n",
        "loss, accuracy = model.evaluate(X_test, y_test)"
      ]
    },
    {
      "cell_type": "code",
      "execution_count": null,
      "metadata": {
        "colab": {
          "background_save": true
        },
        "id": "ZoUwaMk1FaoM",
        "outputId": "159bbce3-ccae-44c5-85f8-52e80d8dd8c0"
      },
      "outputs": [
        {
          "name": "stdout",
          "output_type": "stream",
          "text": [
            "2873/2873 [==============================] - 4s 1ms/step\n"
          ]
        }
      ],
      "source": [
        "predictions = model.predict(X_test)\n",
        "\n",
        "# Convert the predictions to a binary class\n",
        "predictions = (predictions > 0.5).astype(int)\n",
        "predictions = [pred[0] for pred in predictions]\n",
        "predictions = np.array(predictions)"
      ]
    },
    {
      "cell_type": "code",
      "execution_count": null,
      "metadata": {
        "colab": {
          "background_save": true
        },
        "id": "FphkFgZJFaoN",
        "outputId": "bd6d536a-24e1-469d-83c9-444260ae814b"
      },
      "outputs": [
        {
          "name": "stdout",
          "output_type": "stream",
          "text": [
            "Subjects: 91915\n",
            "Actual Healthy Subjects: 46121\n",
            "Actual Sick Subjects: 45794\n",
            "Predicted Healthy Subjects: 46121\n",
            "Predicted Sick Subjects: 45794\n",
            "Test Set Accuracy: 0.8828700429744873\n"
          ]
        }
      ],
      "source": [
        "# Showing relevant information about the Neural Networks model with SMOTE\n",
        "y_true = y_test.numpy().astype(int)\n",
        "test_acc = sum(predictions == y_true) / len(y_true)\n",
        "Hc = sum(y_true == 0)\n",
        "Sick = sum(y_true == 1)\n",
        "PredHc = sum(predictions == 0)\n",
        "PredSick = sum(predictions == 1)\n",
        "print(\"Subjects:\", len(y_true))\n",
        "print(\"Actual Healthy Subjects:\", Hc)\n",
        "print(\"Actual Sick Subjects:\", Sick)\n",
        "print(\"Predicted Healthy Subjects:\", Hc)\n",
        "print(\"Predicted Sick Subjects:\", Sick)\n",
        "print(\"Test Set Accuracy:\", test_acc)"
      ]
    },
    {
      "cell_type": "code",
      "execution_count": null,
      "metadata": {
        "colab": {
          "background_save": true
        },
        "id": "vK3B5wCNFaoO",
        "outputId": "3c1a2c84-60f9-4057-8493-a17a54050702"
      },
      "outputs": [
        {
          "data": {
            "image/png": "[encoded data removed]",
            "text/plain": [
              "<Figure size 720x576 with 2 Axes>"
            ]
          },
          "metadata": {},
          "output_type": "display_data"
        },
        {
          "name": "stdout",
          "output_type": "stream",
          "text": [
            "              precision    recall  f1-score   support\n",
            "\n",
            "         0.0       0.86      0.92      0.89     46121\n",
            "         1.0       0.91      0.85      0.88     45794\n",
            "\n",
            "    accuracy                           0.88     91915\n",
            "   macro avg       0.88      0.88      0.88     91915\n",
            "weighted avg       0.88      0.88      0.88     91915\n",
            "\n"
          ]
        }
      ],
      "source": [
        "# Showing the results of the NN model with SMOTE through a confusion matrix\n",
        "confusion_mtx = tf.math.confusion_matrix(y_test, predictions)\n",
        "matriz = confusion_mtx.numpy()\n",
        "plt.figure(figsize=(10,8))\n",
        "sns.heatmap(confusion_mtx,\n",
        "xticklabels=['Healthy', 'Sick'],\n",
        "yticklabels=['Healthy', 'Sick'],\n",
        "annot=True, fmt='g')\n",
        "plt.xlabel('Prediction')\n",
        "plt.ylabel('Label')\n",
        "plt.show()\n",
        "print(classification_report(y_test, predictions))"
      ]
    },
    {
      "cell_type": "markdown",
      "metadata": {
        "id": "dRAgVLttFaoO"
      },
      "source": [
        "Result: Decent Accuracy and Low Bias"
      ]
    },
    {
      "cell_type": "markdown",
      "metadata": {
        "id": "e89wj_iKFaoP"
      },
      "source": [
        "Decision Tree Classifier using SMOTE"
      ]
    },
    {
      "cell_type": "code",
      "execution_count": null,
      "metadata": {
        "colab": {
          "background_save": true
        },
        "id": "0f8k0fbNFaoQ"
      },
      "outputs": [],
      "source": [
        "# Create the model\n",
        "model = DecisionTreeClassifier()"
      ]
    },
    {
      "cell_type": "markdown",
      "metadata": {
        "id": "WtB1rdX5FaoQ"
      },
      "source": [
        "Using same SMOTED training and test datasets as Neural Networks"
      ]
    },
    {
      "cell_type": "code",
      "execution_count": null,
      "metadata": {
        "colab": {
          "background_save": true
        },
        "id": "DLVp4avtFaoR",
        "outputId": "2c2c7d7e-faf2-46e2-9ef1-7d25ff8b2219"
      },
      "outputs": [
        {
          "data": {
            "text/plain": [
              "DecisionTreeClassifier()"
            ]
          },
          "execution_count": 30,
          "metadata": {},
          "output_type": "execute_result"
        }
      ],
      "source": [
        "# Fit the model to the training data\n",
        "model.fit(X_train, y_train)"
      ]
    },
    {
      "cell_type": "code",
      "execution_count": null,
      "metadata": {
        "colab": {
          "background_save": true
        },
        "id": "gEhLXOfFFaoS",
        "outputId": "f8618b20-739e-4459-845f-53bbaaa4ed89"
      },
      "outputs": [
        {
          "name": "stdout",
          "output_type": "stream",
          "text": [
            "Accuracy: 0.92\n",
            "F1 score: 0.92\n"
          ]
        }
      ],
      "source": [
        "# Evaluate the model on the test set\n",
        "y_pred = model.predict(X_test)\n",
        "accuracy = accuracy_score(y_test, y_pred)\n",
        "f1 = f1_score(y_test, y_pred)\n",
        "print(f\"Accuracy: {accuracy:.2f}\")\n",
        "print(f\"F1 score: {f1:.2f}\")"
      ]
    },
    {
      "cell_type": "code",
      "execution_count": null,
      "metadata": {
        "colab": {
          "background_save": true
        },
        "id": "CUK8mm8uFaoT",
        "outputId": "c2c633a8-d9c1-426e-c3c9-8e8c6bfedd59"
      },
      "outputs": [
        {
          "data": {
            "image/png": "[encoded data removed]",
            "text/plain": [
              "<Figure size 720x576 with 2 Axes>"
            ]
          },
          "metadata": {},
          "output_type": "display_data"
        },
        {
          "name": "stdout",
          "output_type": "stream",
          "text": [
            "              precision    recall  f1-score   support\n",
            "\n",
            "         0.0       0.92      0.91      0.92     46121\n",
            "         1.0       0.91      0.92      0.92     45794\n",
            "\n",
            "    accuracy                           0.92     91915\n",
            "   macro avg       0.92      0.92      0.92     91915\n",
            "weighted avg       0.92      0.92      0.92     91915\n",
            "\n"
          ]
        }
      ],
      "source": [
        "# Showing the results of the Decision Tree Classifier with SMOTE through a confusion matrix\n",
        "confusion_mtx = tf.math.confusion_matrix(y_test, y_pred)\n",
        "matriz = confusion_mtx.numpy()\n",
        "plt.figure(figsize=(10,8))\n",
        "sns.heatmap(confusion_mtx,\n",
        "xticklabels=['Healthy', 'Sick'],\n",
        "yticklabels=['Healthy', 'Sick'],\n",
        "annot=True, fmt='g')\n",
        "plt.xlabel('Prediction')\n",
        "plt.ylabel('Label')\n",
        "plt.show()\n",
        "print(classification_report(y_test, y_pred))"
      ]
    },
    {
      "cell_type": "markdown",
      "metadata": {
        "id": "0XwZTdBqFaoU"
      },
      "source": [
        "Result: High Accuracy, even lower Bias"
      ]
    },
    {
      "cell_type": "markdown",
      "metadata": {
        "id": "nAegT5JFFaoV"
      },
      "source": [
        "Random Forest Classifier using SMOTE"
      ]
    },
    {
      "cell_type": "code",
      "execution_count": null,
      "metadata": {
        "colab": {
          "background_save": true
        },
        "id": "q_e5Rc3qFaoV"
      },
      "outputs": [],
      "source": [
        "# Train the model\n",
        "model = RandomForestClassifier(n_estimators=100, max_depth=10)"
      ]
    },
    {
      "cell_type": "markdown",
      "metadata": {
        "id": "0EzV4AKfFaoW"
      },
      "source": [
        "Same SMOTED Training and Test Datasets as DT and NN"
      ]
    },
    {
      "cell_type": "code",
      "execution_count": null,
      "metadata": {
        "colab": {
          "background_save": true
        },
        "id": "dvVMsVEhFaoX",
        "outputId": "c071c117-e2df-46ff-ed46-683cb7850828"
      },
      "outputs": [
        {
          "data": {
            "text/plain": [
              "RandomForestClassifier(max_depth=10)"
            ]
          },
          "execution_count": 34,
          "metadata": {},
          "output_type": "execute_result"
        }
      ],
      "source": [
        "model.fit(X_train, y_train)"
      ]
    },
    {
      "cell_type": "code",
      "execution_count": null,
      "metadata": {
        "colab": {
          "background_save": true
        },
        "id": "xuCaFbW0FaoY",
        "outputId": "12d07aee-71a0-4e26-82dd-d1ba98e0c793"
      },
      "outputs": [
        {
          "name": "stdout",
          "output_type": "stream",
          "text": [
            "Accuracy: 0.91\n",
            "F1 score: 0.91\n"
          ]
        }
      ],
      "source": [
        "# Evaluate the model on the test set\n",
        "y_pred = model.predict(X_test)\n",
        "accuracy = accuracy_score(y_test, y_pred)\n",
        "f1 = f1_score(y_test, y_pred)\n",
        "print(f\"Accuracy: {accuracy:.2f}\")\n",
        "print(f\"F1 score: {f1:.2f}\")"
      ]
    },
    {
      "cell_type": "code",
      "execution_count": null,
      "metadata": {
        "colab": {
          "background_save": true
        },
        "id": "8sF9YPUjFaoZ",
        "outputId": "0bf88ede-152c-405b-9195-33b135dc11d7"
      },
      "outputs": [
        {
          "data": {
            "image/png": "[encoded data removed]",
            "text/plain": [
              "<Figure size 720x576 with 2 Axes>"
            ]
          },
          "metadata": {},
          "output_type": "display_data"
        },
        {
          "name": "stdout",
          "output_type": "stream",
          "text": [
            "              precision    recall  f1-score   support\n",
            "\n",
            "         0.0       0.91      0.90      0.90     46121\n",
            "         1.0       0.90      0.91      0.91     45794\n",
            "\n",
            "    accuracy                           0.91     91915\n",
            "   macro avg       0.91      0.91      0.91     91915\n",
            "weighted avg       0.91      0.91      0.91     91915\n",
            "\n"
          ]
        }
      ],
      "source": [
        "# Showing the results of the Random Forest Classifier with SMOTE through a confusion matrix\n",
        "confusion_mtx = tf.math.confusion_matrix(y_test, y_pred)\n",
        "matriz = confusion_mtx.numpy()\n",
        "plt.figure(figsize=(10,8))\n",
        "sns.heatmap(confusion_mtx,\n",
        "xticklabels=['Healthy', 'Sick'],\n",
        "yticklabels=['Healthy', 'Sick'],\n",
        "annot=True, fmt='g')\n",
        "plt.xlabel('Prediction')\n",
        "plt.ylabel('Label')\n",
        "plt.show()\n",
        "print(classification_report(y_test, y_pred))"
      ]
    },
    {
      "cell_type": "markdown",
      "metadata": {
        "id": "qlcn5m8nFaoa"
      },
      "source": [
        "Similar result as Decision Tree"
      ]
    }
  ],
  "metadata": {
    "accelerator": "GPU",
    "colab": {
      "provenance": []
    },
    "gpuClass": "standard",
    "kernelspec": {
      "display_name": "Python 3.9.13 64-bit",
      "language": "python",
      "name": "python3"
    },
    "language_info": {
      "codemirror_mode": {
        "name": "ipython",
        "version": 3
      },
      "file_extension": ".py",
      "mimetype": "text/x-python",
      "name": "python",
      "nbconvert_exporter": "python",
      "pygments_lexer": "ipython3",
      "version": "3.9.13 (v3.9.13:6de2ca5339, May 17 2022, 11:23:25) \n[Clang 6.0 (clang-600.0.57)]"
    },
    "vscode": {
      "interpreter": {
        "hash": "aee8b7b246df8f9039afb4144a1f6fd8d2ca17a180786b69acc140d282b71a49"
      }
    }
  },
  "nbformat": 4,
  "nbformat_minor": 0
}
