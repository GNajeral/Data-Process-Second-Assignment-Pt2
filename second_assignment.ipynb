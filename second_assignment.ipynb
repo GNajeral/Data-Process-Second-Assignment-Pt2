{
 "cells": [
  {
   "cell_type": "code",
   "execution_count": 16,
   "metadata": {},
   "outputs": [],
   "source": [
    "import tensorflow as tf\n",
    "import pandas as pd\n",
    "from sklearn.model_selection import train_test_split\n",
    "import matplotlib.pyplot as plt\n",
    "from sklearn.metrics import confusion_matrix\n"
   ]
  },
  {
   "cell_type": "markdown",
   "metadata": {},
   "source": [
    "Open Dataset in Pandas Dataframe"
   ]
  },
  {
   "cell_type": "code",
   "execution_count": 5,
   "metadata": {},
   "outputs": [],
   "source": [
    "df = pd.read_csv(\"heart_disease.csv\")\n",
    "target = df.pop('HeartDiseaseorAttack')\n"
   ]
  },
  {
   "cell_type": "code",
   "execution_count": 6,
   "metadata": {},
   "outputs": [],
   "source": [
    "# Split the data into training and test sets\n",
    "X_train, X_test, y_train, y_test = train_test_split(df, target, test_size=0.2)"
   ]
  },
  {
   "cell_type": "code",
   "execution_count": 7,
   "metadata": {},
   "outputs": [],
   "source": [
    "# Convert the data into a format that can be used by TensorFlow\n",
    "X_train = tf.convert_to_tensor(X_train.values, dtype=tf.float32)\n",
    "y_train = tf.convert_to_tensor(y_train.values, dtype=tf.float32)\n",
    "X_test = tf.convert_to_tensor(X_test.values, dtype=tf.float32)\n",
    "y_test = tf.convert_to_tensor(y_test.values, dtype=tf.float32)"
   ]
  },
  {
   "cell_type": "code",
   "execution_count": 8,
   "metadata": {},
   "outputs": [],
   "source": [
    "# Define the model\n",
    "model = tf.keras.Sequential([\n",
    "    tf.keras.layers.Dense(64, activation='relu', input_shape=(X_train.shape[1],)),\n",
    "    tf.keras.layers.Dense(64, activation='relu'),\n",
    "    tf.keras.layers.Dense(1, activation='sigmoid')\n",
    "])"
   ]
  },
  {
   "cell_type": "code",
   "execution_count": 9,
   "metadata": {},
   "outputs": [],
   "source": [
    "# Compile the model\n",
    "model.compile(optimizer='adam', loss='binary_crossentropy', metrics=['accuracy'])"
   ]
  },
  {
   "cell_type": "code",
   "execution_count": 10,
   "metadata": {},
   "outputs": [
    {
     "name": "stdout",
     "output_type": "stream",
     "text": [
      "Epoch 1/10\n",
      "6342/6342 [==============================] - 30s 5ms/step - loss: 0.2545 - accuracy: 0.9054\n",
      "Epoch 2/10\n",
      "6342/6342 [==============================] - 26s 4ms/step - loss: 0.2433 - accuracy: 0.9074\n",
      "Epoch 3/10\n",
      "6342/6342 [==============================] - 20s 3ms/step - loss: 0.2409 - accuracy: 0.9074\n",
      "Epoch 4/10\n",
      "6342/6342 [==============================] - 18s 3ms/step - loss: 0.2396 - accuracy: 0.9080\n",
      "Epoch 5/10\n",
      "6342/6342 [==============================] - 20s 3ms/step - loss: 0.2389 - accuracy: 0.9077\n",
      "Epoch 6/10\n",
      "6342/6342 [==============================] - 13s 2ms/step - loss: 0.2386 - accuracy: 0.9079\n",
      "Epoch 7/10\n",
      "6342/6342 [==============================] - 18s 3ms/step - loss: 0.2384 - accuracy: 0.9079\n",
      "Epoch 8/10\n",
      "6342/6342 [==============================] - 16s 2ms/step - loss: 0.2383 - accuracy: 0.9078\n",
      "Epoch 9/10\n",
      "6342/6342 [==============================] - 12s 2ms/step - loss: 0.2382 - accuracy: 0.9079\n",
      "Epoch 10/10\n",
      "6342/6342 [==============================] - 15s 2ms/step - loss: 0.2381 - accuracy: 0.9082\n"
     ]
    },
    {
     "data": {
      "text/plain": [
       "<keras.callbacks.History at 0x7f9eb61aeb20>"
      ]
     },
     "execution_count": 10,
     "metadata": {},
     "output_type": "execute_result"
    }
   ],
   "source": [
    "# Train the model\n",
    "model.fit(X_train, y_train, epochs=10, batch_size=32)"
   ]
  },
  {
   "cell_type": "code",
   "execution_count": 13,
   "metadata": {},
   "outputs": [
    {
     "name": "stdout",
     "output_type": "stream",
     "text": [
      "1586/1586 [==============================] - 4s 2ms/step - loss: 0.2426 - accuracy: 0.9070\n",
      "Loss: 0.2425512671470642 Accuracy: 0.9070285558700562\n"
     ]
    }
   ],
   "source": [
    "# Evaluate the model\n",
    "loss, accuracy = model.evaluate(X_test, y_test)"
   ]
  },
  {
   "cell_type": "code",
   "execution_count": 21,
   "metadata": {},
   "outputs": [
    {
     "ename": "NameError",
     "evalue": "name 'Y_test' is not defined",
     "output_type": "error",
     "traceback": [
      "\u001b[0;31m---------------------------------------------------------------------------\u001b[0m",
      "\u001b[0;31mNameError\u001b[0m                                 Traceback (most recent call last)",
      "Cell \u001b[0;32mIn [21], line 1\u001b[0m\n\u001b[0;32m----> 1\u001b[0m predictions \u001b[39m=\u001b[39m model\u001b[39m.\u001b[39mpredict(Y_test)\n\u001b[1;32m      2\u001b[0m \u001b[39m# Convert the predictions to a binary class\u001b[39;00m\n\u001b[1;32m      3\u001b[0m predictions \u001b[39m=\u001b[39m (predictions \u001b[39m>\u001b[39m \u001b[39m0.5\u001b[39m)\n",
      "\u001b[0;31mNameError\u001b[0m: name 'Y_test' is not defined"
     ]
    }
   ],
   "source": [
    "predictions = model.predict(X_test)\n",
    "# Convert the predictions to a binary class\n",
    "predictions = (predictions > 0.5)"
   ]
  },
  {
   "cell_type": "code",
   "execution_count": null,
   "metadata": {},
   "outputs": [],
   "source": [
    "confusion_mtx = tf.math.confusion_matrix(Y_test, predictions)\n",
    "matriz = confusion_mtx.numpy()"
   ]
  },
  {
   "cell_type": "code",
   "execution_count": null,
   "metadata": {},
   "outputs": [],
   "source": []
  }
 ],
 "metadata": {
  "kernelspec": {
   "display_name": "Python 3.9.13 64-bit",
   "language": "python",
   "name": "python3"
  },
  "language_info": {
   "codemirror_mode": {
    "name": "ipython",
    "version": 3
   },
   "file_extension": ".py",
   "mimetype": "text/x-python",
   "name": "python",
   "nbconvert_exporter": "python",
   "pygments_lexer": "ipython3",
   "version": "3.9.13"
  },
  "orig_nbformat": 4,
  "vscode": {
   "interpreter": {
    "hash": "aee8b7b246df8f9039afb4144a1f6fd8d2ca17a180786b69acc140d282b71a49"
   }
  }
 },
 "nbformat": 4,
 "nbformat_minor": 2
}
