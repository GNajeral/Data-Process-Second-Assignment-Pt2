{
 "cells": [
  {
   "attachments": {},
   "cell_type": "markdown",
   "metadata": {},
   "source": [
    "## Data Processes: Second Assignment (second part)\n",
    "\n",
    "### Group:\n",
    "Víctor Morcuende Castell, 47315589N\n",
    "\n",
    "Guillermo Nájera Lavid, 70845359T\n",
    "\n",
    "Javier Rocamora García, 20081979N\n",
    "\n",
    "Antonio Ruiz García, 06601574E"
   ]
  },
  {
   "cell_type": "code",
   "execution_count": 1,
   "metadata": {},
   "outputs": [],
   "source": [
    "import tensorflow as tf\n",
    "import pandas as pd\n",
    "import numpy as np\n",
    "import matplotlib.pyplot as plt\n",
    "import seaborn as sns\n",
    "from sklearn.tree import DecisionTreeClassifier, plot_tree\n",
    "from sklearn.model_selection import train_test_split, KFold\n",
    "from sklearn.metrics import accuracy_score, f1_score, confusion_matrix, classification_report\n",
    "from sklearn.ensemble import RandomForestClassifier\n",
    "from imblearn.over_sampling import SMOTE"
   ]
  },
  {
   "cell_type": "markdown",
   "metadata": {},
   "source": [
    "Open Dataset in Pandas Dataframe"
   ]
  },
  {
   "cell_type": "code",
   "execution_count": 2,
   "metadata": {},
   "outputs": [],
   "source": [
    "df = pd.read_csv(\"heart_disease.csv\")\n",
    "target = df.pop('HeartDiseaseorAttack')"
   ]
  },
  {
   "attachments": {},
   "cell_type": "markdown",
   "metadata": {},
   "source": [
    "Decision Tree Classifier using SMOTE"
   ]
  },
  {
   "cell_type": "code",
   "execution_count": 3,
   "metadata": {},
   "outputs": [],
   "source": [
    "X = df.values\n",
    "y = target.values\n",
    "\n",
    "# We create a SMOTE object\n",
    "smote = SMOTE()\n",
    "\n",
    "# Using the SMOTE object to generate synthetic samples\n",
    "X_resampled, y_resampled = smote.fit_resample(X, y)\n",
    "\n",
    "# We split the resampled dataset into a training set and a test set\n",
    "X_train, X_test, y_train, y_test = train_test_split(X_resampled, y_resampled, test_size=0.2)\n",
    "\n",
    "# Converting the data into a format that can be used by TensorFlow\n",
    "X_train = tf.convert_to_tensor(X_train, dtype=tf.float32)\n",
    "y_train = tf.convert_to_tensor(y_train, dtype=tf.float32)\n",
    "X_test = tf.convert_to_tensor(X_test, dtype=tf.float32)\n",
    "y_test = tf.convert_to_tensor(y_test, dtype=tf.float32)"
   ]
  },
  {
   "cell_type": "code",
   "execution_count": 4,
   "metadata": {},
   "outputs": [],
   "source": [
    "# We create the model\n",
    "model = DecisionTreeClassifier()"
   ]
  },
  {
   "cell_type": "code",
   "execution_count": 5,
   "metadata": {},
   "outputs": [],
   "source": [
    "# We fit the model to the training data and evaluate it on the test set\n",
    "model.fit(X_train, y_train)\n",
    "y_pred = model.predict(X_test)"
   ]
  },
  {
   "cell_type": "code",
   "execution_count": 6,
   "metadata": {},
   "outputs": [
    {
     "data": {
      "image/png": "[encoded data removed]",
      "text/plain": [
       "<Figure size 720x576 with 2 Axes>"
      ]
     },
     "metadata": {
      "needs_background": "light"
     },
     "output_type": "display_data"
    },
    {
     "name": "stdout",
     "output_type": "stream",
     "text": [
      "              precision    recall  f1-score   support\n",
      "\n",
      "         0.0       0.92      0.91      0.92     46006\n",
      "         1.0       0.91      0.92      0.92     45909\n",
      "\n",
      "    accuracy                           0.92     91915\n",
      "   macro avg       0.92      0.92      0.92     91915\n",
      "weighted avg       0.92      0.92      0.92     91915\n",
      "\n"
     ]
    }
   ],
   "source": [
    "# Showing the results of the Decision Tree Classifier with SMOTE through a confusion matrix\n",
    "confusion_mtx = tf.math.confusion_matrix(y_test, y_pred)\n",
    "matriz = confusion_mtx.numpy()\n",
    "plt.figure(figsize=(10,8))\n",
    "sns.heatmap(confusion_mtx,\n",
    "xticklabels=['Healthy', 'Sick'],\n",
    "yticklabels=['Healthy', 'Sick'],\n",
    "annot=True, fmt='g')\n",
    "plt.xlabel('Prediction')\n",
    "plt.ylabel('Label')\n",
    "plt.show()\n",
    "print(classification_report(y_test, y_pred))"
   ]
  },
  {
   "attachments": {},
   "cell_type": "markdown",
   "metadata": {},
   "source": [
    "Result: Great Accuracy and Low Bias"
   ]
  },
  {
   "cell_type": "code",
   "execution_count": 7,
   "metadata": {},
   "outputs": [
    {
     "name": "stdout",
     "output_type": "stream",
     "text": [
      "Recall: 0.92\n",
      "1 - Recall: 0.08\n",
      "\n",
      "Specificity: 0.91\n",
      "1 - Specificity: 0.09\n",
      "\n",
      "Actual cost of the national healthcare system: 1194650000.00\n",
      "Desired cost: 955720000.00\n",
      "Cost amount that needs to be reduced: 238930000.00\n",
      "\n",
      "Cost of TP that did not accept the plan: 165208002.52\n",
      "\n",
      "Cost of FN: 93263316.56\n",
      "\n",
      "Cost of FP that accepted the plan: 17325927.81\n",
      "\n",
      "Adherence percentage needed to reduce the cost by 20 percent: 39.16339\n",
      "\n",
      "Cost of TP that accepted the plan, adhered to it and succeeded: 5499590.04\n",
      "\n",
      "Cost of TP that accepted the plan, adhered to it and did not succeed: 93493030.61\n",
      "\n",
      "Cost of TP that accepted the plan and did not adhere to it: 580930132.09\n",
      "\n",
      "Predicted cost: 955719999.63\n",
      "\n",
      "Balance: 0.37\n"
     ]
    }
   ],
   "source": [
    "# We calculate the evaluation metrics and store them in a dictionary\n",
    "eval_metrics = classification_report(y_test, y_pred, output_dict=True)\n",
    "\n",
    "# We use the actual number of sick and healthy people given in the dataset\n",
    "healthy = 229787\n",
    "sick = 23893\n",
    "\n",
    "# We calculate the recall (True Positive), 1-recall (False Negative), specificity (True Negative) and 1-specificity (False Positive) values\n",
    "recall = eval_metrics['1.0']['recall']\n",
    "print(\"Recall: %.2f\" % recall)\n",
    "nonRecall = 1 - recall\n",
    "print(\"1 - Recall: %.2f\" % nonRecall)\n",
    "print()\n",
    "\n",
    "specificity = eval_metrics['0.0']['recall']\n",
    "print(\"Specificity: %.2f\" % specificity)\n",
    "nonSpecificity = 1 - specificity\n",
    "print(\"1 - Specificity: %.2f\" % nonSpecificity)\n",
    "print()\n",
    "\n",
    "# Fixed values\n",
    "accept = 0.85\n",
    "notAccept = 1 - accept\n",
    "plan = 1000\n",
    "treatment = 50000\n",
    "success = 0.75\n",
    "notSuccess = 1 - success\n",
    "\n",
    "# We calculate the hypothetical cost of the national healthcare system\n",
    "actualCost = sick * treatment\n",
    "print(\"Actual cost of the national healthcare system: %.2f\" % actualCost)\n",
    "desiredCost = actualCost * 0.8\n",
    "print(\"Desired cost: %.2f\" % desiredCost)\n",
    "reducedCost = actualCost - desiredCost\n",
    "print(\"Cost amount that needs to be reduced: %.2f\" % reducedCost)\n",
    "print()\n",
    "\n",
    "# We calculate the cost of the TP\n",
    "costTP_notAccept = sick * recall * notAccept * treatment\n",
    "print(\"Cost of TP that did not accept the plan: %.2f\" % costTP_notAccept)\n",
    "print()\n",
    "\n",
    "# We calculate the cost of the FN\n",
    "costFN = sick * nonRecall * treatment\n",
    "print(\"Cost of FN: %.2f\" % costFN)\n",
    "print()\n",
    "\n",
    "# We calculate the cost of the FP\n",
    "costFP_accept = healthy * nonSpecificity * accept * plan\n",
    "print(\"Cost of FP that accepted the plan: %.2f\" % costFP_accept)\n",
    "print()\n",
    "\n",
    "predCost = actualCost\n",
    "adhere = 0\n",
    "\n",
    "while (desiredCost - predCost < 0):\n",
    "  notAdhere = 1 - adhere\n",
    "  costTP_accept_adhere_success = sick * recall * accept * adhere * success * plan\n",
    "  costTP_accept_adhere_notSuccess = sick * recall * accept * adhere * notSuccess * (plan + treatment)\n",
    "  costTP_accept_notAdhere = sick * recall * accept * notAdhere * (plan + treatment)\n",
    "  predCost = costTP_accept_adhere_success + costTP_accept_adhere_notSuccess + costTP_accept_notAdhere + costTP_notAccept + costFN + costFP_accept\n",
    "  adhere = adhere + 0.000000001\n",
    "\n",
    "print(\"Adherence percentage needed to reduce the cost by 20 percent: %.5f\" % (adhere*100))\n",
    "print()\n",
    "\n",
    "print(\"Cost of TP that accepted the plan, adhered to it and succeeded: %.2f\" % costTP_accept_adhere_success)\n",
    "print()\n",
    "\n",
    "print(\"Cost of TP that accepted the plan, adhered to it and did not succeed: %.2f\" % costTP_accept_adhere_notSuccess)\n",
    "print()\n",
    "\n",
    "print(\"Cost of TP that accepted the plan and did not adhere to it: %.2f\" % costTP_accept_notAdhere)\n",
    "print()\n",
    " \n",
    "print(\"Predicted cost: %.2f\" % predCost)\n",
    "print()\n",
    "\n",
    "balance = desiredCost - predCost \n",
    "print(\"Balance: %.2f\" % balance)"
   ]
  }
 ],
 "metadata": {
  "kernelspec": {
   "display_name": "Python 3.9.13 64-bit",
   "language": "python",
   "name": "python3"
  },
  "language_info": {
   "codemirror_mode": {
    "name": "ipython",
    "version": 3
   },
   "file_extension": ".py",
   "mimetype": "text/x-python",
   "name": "python",
   "nbconvert_exporter": "python",
   "pygments_lexer": "ipython3",
   "version": "3.9.0"
  },
  "orig_nbformat": 4,
  "vscode": {
   "interpreter": {
    "hash": "aee8b7b246df8f9039afb4144a1f6fd8d2ca17a180786b69acc140d282b71a49"
   }
  }
 },
 "nbformat": 4,
 "nbformat_minor": 2
}
